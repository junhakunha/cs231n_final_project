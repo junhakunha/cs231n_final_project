{
 "cells": [
  {
   "cell_type": "code",
   "execution_count": 15,
   "metadata": {},
   "outputs": [],
   "source": [
    "# import constants\n",
    "import sys\n",
    "import os\n",
    "sys.path.append(os.path.abspath('..'))  # Add parent directory to path\n",
    "from src.utils.constants import DATA_DIR, MNIST_DIR, SUPERVISED_DIR, WEAKLY_SUPERVISED_DIR\n",
    "\n",
    "import torch\n",
    "import matplotlib.pyplot as plt\n",
    "import numpy as np"
   ]
  },
  {
   "cell_type": "code",
   "execution_count": 16,
   "metadata": {},
   "outputs": [
    {
     "name": "stdout",
     "output_type": "stream",
     "text": [
      "/Users/junhalee/Desktop/CS 231N/cs231n_final_project/data/mnist\n",
      "/Users/junhalee/Desktop/CS 231N/cs231n_final_project/data/mnist/supervised\n"
     ]
    }
   ],
   "source": [
    "print(MNIST_DIR)\n",
    "# /Users/junhalee/Desktop/CS 231N/cs231n_final_project/data/mnist\n",
    "\n",
    "print(SUPERVISED_DIR)\n",
    "# /Users/junhalee/Desktop/CS 231N/cs231n_final_project/data/mnist/supervised"
   ]
  },
  {
   "cell_type": "code",
   "execution_count": 23,
   "metadata": {},
   "outputs": [],
   "source": [
    "x_train = torch.load(f\"{SUPERVISED_DIR}/x_train.pt\")\n",
    "y_train = torch.load(f\"{SUPERVISED_DIR}/y_train.pt\")\n",
    "x_val = torch.load(f\"{SUPERVISED_DIR}/x_val.pt\")\n",
    "y_val = torch.load(f\"{SUPERVISED_DIR}/y_val.pt\")\n",
    "x_test = torch.load(f\"{SUPERVISED_DIR}/x_test.pt\")\n",
    "y_test = torch.load(f\"{SUPERVISED_DIR}/y_test.pt\")\n"
   ]
  },
  {
   "cell_type": "code",
   "execution_count": 25,
   "metadata": {},
   "outputs": [
    {
     "data": {
      "text/plain": [
       "torch.Size([28, 28])"
      ]
     },
     "execution_count": 25,
     "metadata": {},
     "output_type": "execute_result"
    }
   ],
   "source": [
    "x_train[0].shape"
   ]
  },
  {
   "cell_type": "code",
   "execution_count": 26,
   "metadata": {},
   "outputs": [
    {
     "data": {
      "image/png": "[encoded data removed]",
      "text/plain": [
       "<Figure size 640x480 with 10 Axes>"
      ]
     },
     "metadata": {},
     "output_type": "display_data"
    }
   ],
   "source": [
    "# display a training example\n",
    "\n",
    "for i in range(10):\n",
    "    # display the image\n",
    "    plt.subplot(2, 5, i+1)\n",
    "    plt.imshow(x_train[i].numpy().reshape(28, 28), cmap='gray')\n",
    "    plt.title(f\"Label: {y_train[i]}\")\n",
    "    plt.axis('off')\n",
    "plt.show()"
   ]
  },
  {
   "cell_type": "code",
   "execution_count": 28,
   "metadata": {},
   "outputs": [],
   "source": [
    "# get weakly supervised training set\n",
    "\n",
    "x_train_pairs_50k = torch.load(f\"{WEAKLY_SUPERVISED_DIR}/x_train_50k.pt\")\n",
    "y_train_pairs_50k = torch.load(f\"{WEAKLY_SUPERVISED_DIR}/y_train_50k.pt\")\n",
    "\n",
    "x_train_pairs_500k = torch.load(f\"{WEAKLY_SUPERVISED_DIR}/x_train_500k.pt\")\n",
    "y_train_pairs_500k = torch.load(f\"{WEAKLY_SUPERVISED_DIR}/y_train_500k.pt\")\n",
    "\n",
    "x_train_pairs_5000k = torch.load(f\"{WEAKLY_SUPERVISED_DIR}/x_train_5000k.pt\")\n",
    "y_train_pairs_5000k = torch.load(f\"{WEAKLY_SUPERVISED_DIR}/y_train_5000k.pt\")\n",
    "\n",
    "x_val_pairs = torch.load(f\"{WEAKLY_SUPERVISED_DIR}/x_val.pt\")\n",
    "y_val_pairs = torch.load(f\"{WEAKLY_SUPERVISED_DIR}/y_val.pt\")\n",
    "\n",
    "x_test_pairs = torch.load(f\"{WEAKLY_SUPERVISED_DIR}/x_test.pt\")\n",
    "y_test_pairs = torch.load(f\"{WEAKLY_SUPERVISED_DIR}/y_test.pt\")"
   ]
  },
  {
   "cell_type": "code",
   "execution_count": 44,
   "metadata": {},
   "outputs": [
    {
     "data": {
      "image/png": "[encoded data removed]",
      "text/plain": [
       "<Figure size 640x480 with 2 Axes>"
      ]
     },
     "metadata": {},
     "output_type": "display_data"
    },
    {
     "name": "stdout",
     "output_type": "stream",
     "text": [
      "label: 1\n"
     ]
    }
   ],
   "source": [
    "i = 1005\n",
    "\n",
    "plt.subplot(1, 2, 1)\n",
    "plt.imshow(x_train_pairs_5000k[i][0].numpy().reshape(28, 28), cmap='gray')\n",
    "plt.title(\"Image 1\")\n",
    "plt.subplot(1, 2, 2)\n",
    "plt.imshow(x_train_pairs_5000k[i][1].numpy().reshape(28, 28), cmap='gray')\n",
    "plt.title(\"Image 2\")\n",
    "plt.show()\n",
    "print(f\"label: {int(y_train_pairs_5000k[i].item())}\")"
   ]
  },
  {
   "cell_type": "code",
   "execution_count": 36,
   "metadata": {},
   "outputs": [
    {
     "name": "stdout",
     "output_type": "stream",
     "text": [
      "tensor(0.5001)\n"
     ]
    }
   ],
   "source": [
    "# print percentage of 1 values in y_train_pairs_5000k\n",
    "print(y_train_pairs_5000k.sum() / len(y_train_pairs_5000k))"
   ]
  },
  {
   "cell_type": "code",
   "execution_count": null,
   "metadata": {},
   "outputs": [],
   "source": []
  }
 ],
 "metadata": {
  "kernelspec": {
   "display_name": ".venv",
   "language": "python",
   "name": "python3"
  },
  "language_info": {
   "codemirror_mode": {
    "name": "ipython",
    "version": 3
   },
   "file_extension": ".py",
   "mimetype": "text/x-python",
   "name": "python",
   "nbconvert_exporter": "python",
   "pygments_lexer": "ipython3",
   "version": "3.10.11"
  }
 },
 "nbformat": 4,
 "nbformat_minor": 2
}
